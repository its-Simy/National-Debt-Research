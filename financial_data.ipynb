{
 "cells": [
  {
   "cell_type": "code",
   "execution_count": 212,
   "metadata": {},
   "outputs": [],
   "source": [
    "import pandas as pd\n",
    "import pyfredapi as pf\n",
    "import requests\n",
    "import os\n",
    "\n",
    "\n",
   ]
  },
  {
   "cell_type": "markdown",
   "metadata": {},
   "source": [
    "**Pulls Data From Fred API**"
   ]
  },
  {
   "cell_type": "code",
   "execution_count": 202,
   "metadata": {},
   "outputs": [
    {
     "name": "stdout",
     "output_type": "stream",
     "text": [
      "Requesting series GDP...\n",
      "Requesting series FEDFUNDS...\n",
      "Requesting series MTSDS133FMS...\n",
      "Requesting series FYGFDPUN...\n",
      "Requesting series FGRECPT...\n",
      "Requesting series FYONGDA188S...\n",
      "Requesting series UNRATE...\n",
      "Requesting series SPPOP65UPTOZSUSA...\n",
      "Requesting series CPIAUCSL...\n",
      "Requesting series GFDEBTN...\n",
      "Requesting series GDP...\n",
      "Requesting series GDP...\n",
      "Requesting series FEDFUNDS...\n",
      "Requesting series MTSDS133FMS...\n",
      "Requesting series FYGFDPUN...\n",
      "Requesting series FGRECPT...\n",
      "Requesting series NA000283Q...\n",
      "Requesting series UNRATE...\n",
      "Requesting series W823RC1...\n",
      "Requesting series CPIAUCSL...\n",
      "Requesting series GFDEBTN...\n"
     ]
    }
   ],
   "source": [
    "#adds all of the variables into a temperary dataframe using the pyfredapi library\n",
    "sc = pf.SeriesCollection(\n",
    "    series_id=[\"GDP\"]\n",
    ")\n",
    "\n",
    "sc.add(series_id=[\"FEDFUNDS\"])\n",
    "sc.add(series_id=[\"MTSDS133FMS\"])\n",
    "sc.add(series_id=[\"FYGFDPUN\"])\n",
    "sc.add(series_id=[\"FGRECPT\"])\n",
    "sc.add(series_id=[\"FYONGDA188S\"])\n",
    "sc.add(series_id=[\"UNRATE\"])\n",
    "sc.add(series_id=[\"SPPOP65UPTOZSUSA\"])\n",
    "sc.add(series_id=[\"CPIAUCSL\"])\n",
    "sc.add(series_id=[\"GFDEBTN\"])\n",
    "sc.add(series_id=[\"GDP\"])\n",
    "\n",
    "#Renaming all of the variables\n",
    "# Rename with a dictionary\n",
    "new_names = {\n",
    "    \"GDP\": \"GDP\",\n",
    "    \"FEDFUNDS\": \"Federal Funds Effective Rate\",\n",
    "    \"MTSDS133FMS\": \"Federal Surplus or Deficit\",\n",
    "    \"FYGFDPUN\": \"Federal Debt Held by the Public\" ,\n",
    "    \"FGRECPT\": \"Federal Revenue\",\n",
    "    \"NA000283Q\":\"Federal Spending\" ,\n",
    "    \"UNRATE\": \"Unemployment rate\",\n",
    "    \"W823RC1\": \"Using Social Security\",\n",
    "    \"CPIAUCSL\": \"Inflation rate\", \n",
    "    \"GFDEBTN\": \"National Debt\",\n",
    "}\n",
    "\n",
    "sc = pf.SeriesCollection(series_id=[\"GDP\",\"FEDFUNDS\",\"MTSDS133FMS\",\"FYGFDPUN\",\"FGRECPT\",\"NA000283Q\",\"UNRATE\",\"W823RC1\",\"CPIAUCSL\",\"GFDEBTN\"], rename=new_names)\n",
    "\n",
    "#converts it into a dataframe where each variable has its own column\n",
    "cpi_long = sc.merge_wide()\n",
    "\n",
    "#converts from temperary dataframe being returned into a real dataframe\n",
    "df = pd.DataFrame(cpi_long)\n",
    "\n",
    "#removes unnecessary dates(keeps 1999-2024) and reorganizes index\n",
    "\n",
    "df[\"date\"]= pd.to_datetime(df[\"date\"])\n",
    "df = df[df[\"date\"] >= \"1999-10-01\"]\n",
    "df = df[df[\"date\"] <= \"2024-01-01\"]\n",
    "df = df.dropna()\n",
    "df = df.reset_index(drop=True)"
   ]
  },
  {
   "cell_type": "markdown",
   "metadata": {},
   "source": [
    "**Converts Data Into Quarter over Quarter Percent Change**"
   ]
  },
  {
   "cell_type": "code",
   "execution_count": 203,
   "metadata": {},
   "outputs": [],
   "source": [
    "#loops over dataframe columns does the QoQ % change for everything except the date\n",
    "\n",
    "count = 0\n",
    "for col in df.columns:\n",
    "    # compute pct_change on the Series, then assign back into df\n",
    "    if count != 0:\n",
    "        df[col] = df[col].pct_change(fill_method=None)*100\n",
    "    count = count + 1"
   ]
  },
  {
   "cell_type": "markdown",
   "metadata": {},
   "source": [
    "**Series of Presidents, House of Representatives and Senate Control**\n",
    "<pre>\n",
    "How the parties will be represented in the Data\n",
    "\n",
    "0 indicates Democrat (Blue)\n",
    "1 Represents Republican (Red)\n",
    "\n",
    "Data pulled from: \n",
    "https://api.congress.gov"
   ]
  },
  {
   "cell_type": "code",
   "execution_count": 213,
   "metadata": {},
   "outputs": [
    {
     "ename": "HTTPError",
     "evalue": "403 Client Error: Forbidden for url: https://api.data.gov/congress/v3/member/congress/106?api_key=Xb72KuJtHR3xq50bcmhO8EyHR1zdaSDTbP1yziOh",
     "output_type": "error",
     "traceback": [
      "\u001b[31m---------------------------------------------------------------------------\u001b[39m",
      "\u001b[31mHTTPError\u001b[39m                                 Traceback (most recent call last)",
      "\u001b[36mCell\u001b[39m\u001b[36m \u001b[39m\u001b[32mIn[213]\u001b[39m\u001b[32m, line 29\u001b[39m\n\u001b[32m     27\u001b[39m all_terms = []\n\u001b[32m     28\u001b[39m \u001b[38;5;28;01mfor\u001b[39;00m cong \u001b[38;5;129;01min\u001b[39;00m \u001b[38;5;28mrange\u001b[39m(\u001b[32m106\u001b[39m, \u001b[32m119\u001b[39m):\n\u001b[32m---> \u001b[39m\u001b[32m29\u001b[39m     all_terms.append(\u001b[43mfetch_party_counts\u001b[49m\u001b[43m(\u001b[49m\u001b[43mcong\u001b[49m\u001b[43m)\u001b[49m)\n\u001b[32m     31\u001b[39m \u001b[38;5;66;03m# Combine into one DataFrame\u001b[39;00m\n\u001b[32m     32\u001b[39m df_all = pd.concat(all_terms, ignore_index=\u001b[38;5;28;01mTrue\u001b[39;00m)\n",
      "\u001b[36mCell\u001b[39m\u001b[36m \u001b[39m\u001b[32mIn[213]\u001b[39m\u001b[32m, line 7\u001b[39m, in \u001b[36mfetch_party_counts\u001b[39m\u001b[34m(congress_number)\u001b[39m\n\u001b[32m      5\u001b[39m url = \u001b[33mf\u001b[39m\u001b[33m\"\u001b[39m\u001b[38;5;132;01m{\u001b[39;00mbase\u001b[38;5;132;01m}\u001b[39;00m\u001b[33m/\u001b[39m\u001b[38;5;132;01m{\u001b[39;00mcongress_number\u001b[38;5;132;01m}\u001b[39;00m\u001b[33m\"\u001b[39m\n\u001b[32m      6\u001b[39m resp = requests.get(url, params={\u001b[33m\"\u001b[39m\u001b[33mapi_key\u001b[39m\u001b[33m\"\u001b[39m: api_gov_key})\n\u001b[32m----> \u001b[39m\u001b[32m7\u001b[39m \u001b[43mresp\u001b[49m\u001b[43m.\u001b[49m\u001b[43mraise_for_status\u001b[49m\u001b[43m(\u001b[49m\u001b[43m)\u001b[49m\n\u001b[32m      8\u001b[39m members = resp.json()[\u001b[33m\"\u001b[39m\u001b[33mmembers\u001b[39m\u001b[33m\"\u001b[39m]\n\u001b[32m     10\u001b[39m df_1 = pd.DataFrame(members)\n",
      "\u001b[36mFile \u001b[39m\u001b[32m~/Desktop/Projects/National-Debt-Research/venv/lib/python3.12/site-packages/requests/models.py:1026\u001b[39m, in \u001b[36mResponse.raise_for_status\u001b[39m\u001b[34m(self)\u001b[39m\n\u001b[32m   1021\u001b[39m     http_error_msg = (\n\u001b[32m   1022\u001b[39m         \u001b[33mf\u001b[39m\u001b[33m\"\u001b[39m\u001b[38;5;132;01m{\u001b[39;00m\u001b[38;5;28mself\u001b[39m.status_code\u001b[38;5;132;01m}\u001b[39;00m\u001b[33m Server Error: \u001b[39m\u001b[38;5;132;01m{\u001b[39;00mreason\u001b[38;5;132;01m}\u001b[39;00m\u001b[33m for url: \u001b[39m\u001b[38;5;132;01m{\u001b[39;00m\u001b[38;5;28mself\u001b[39m.url\u001b[38;5;132;01m}\u001b[39;00m\u001b[33m\"\u001b[39m\n\u001b[32m   1023\u001b[39m     )\n\u001b[32m   1025\u001b[39m \u001b[38;5;28;01mif\u001b[39;00m http_error_msg:\n\u001b[32m-> \u001b[39m\u001b[32m1026\u001b[39m     \u001b[38;5;28;01mraise\u001b[39;00m HTTPError(http_error_msg, response=\u001b[38;5;28mself\u001b[39m)\n",
      "\u001b[31mHTTPError\u001b[39m: 403 Client Error: Forbidden for url: https://api.data.gov/congress/v3/member/congress/106?api_key=Xb72KuJtHR3xq50bcmhO8EyHR1zdaSDTbP1yziOh"
     ]
    }
   ],
   "source": [
    "api_gov_key = 'Xb72KuJtHR3xq50bcmhO8EyHR1zdaSDTbP1yziOh'\n",
    "base    = \"https://api.data.gov/congress/v3/member/congress\"\n",
    "\n",
    "def fetch_party_counts(congress_number):\n",
    "    url = f\"{base}/{congress_number}\"\n",
    "    resp = requests.get(url, params={\"api_key\": api_gov_key})\n",
    "    resp.raise_for_status()\n",
    "    members = resp.json()[\"members\"]\n",
    "    \n",
    "    df_1 = pd.DataFrame(members)\n",
    "    df_1[\"chamber\"] = df_1[\"roleType\"].map({\n",
    "        \"representative\": \"House\",\n",
    "        \"senator\":        \"Senate\"\n",
    "    })\n",
    "    counts = (\n",
    "        df_1\n",
    "        .groupby(\"chamber\")[\"party\"]\n",
    "        .value_counts()\n",
    "        .unstack(fill_value=0)\n",
    "        .rename(columns={\"D\": \"Democrats\", \"R\": \"Republicans\", \"I\": \"Independents\"})\n",
    "        .reset_index()\n",
    "    )\n",
    "    counts[\"congress\"] = congress_number\n",
    "    return counts\n",
    "\n",
    "# Pull for 106–118\n",
    "all_terms = []\n",
    "for cong in range(106, 119):\n",
    "    all_terms.append(fetch_party_counts(cong))\n",
    "\n",
    "# Combine into one DataFrame\n",
    "df_all = pd.concat(all_terms, ignore_index=True)\n",
    "\n",
    "# Pivot so each row is one Congress and columns show counts by chamber\n",
    "df_summary = (\n",
    "    df_all\n",
    "    .pivot(index=\"congress\", columns=\"chamber\", values=[\"Democrats\",\"Republicans\",\"Independents\"])\n",
    "    .sort_index()\n",
    ")\n",
    "\n",
    "print(df_summary)"
   ]
  }
 ],
 "metadata": {
  "kernelspec": {
   "display_name": "venv",
   "language": "python",
   "name": "python3"
  },
  "language_info": {
   "codemirror_mode": {
    "name": "ipython",
    "version": 3
   },
   "file_extension": ".py",
   "mimetype": "text/x-python",
   "name": "python",
   "nbconvert_exporter": "python",
   "pygments_lexer": "ipython3",
   "version": "3.12.7"
  }
 },
 "nbformat": 4,
 "nbformat_minor": 2
}
